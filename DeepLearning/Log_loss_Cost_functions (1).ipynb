{
 "cells": [
  {
   "cell_type": "code",
   "execution_count": 8,
   "id": "ed24a575-f13c-4efe-9d64-7265669e1cfb",
   "metadata": {},
   "outputs": [
    {
     "name": "stdout",
     "output_type": "stream",
     "text": [
      "Requirement already satisfied: numpy in d:\\abhishek\\demon\\apps\\anaconda\\lib\\site-packages (1.26.4)\n"
     ]
    }
   ],
   "source": [
    "!pip install numpy"
   ]
  },
  {
   "cell_type": "code",
   "execution_count": 10,
   "id": "7dd9ce80-b069-452f-bbcd-79a3ed1fbca0",
   "metadata": {},
   "outputs": [],
   "source": [
    "\n",
    "import numpy as np"
   ]
  },
  {
   "cell_type": "code",
   "execution_count": 12,
   "id": "4f93899a-a0b1-4d23-b306-e338710ef1b0",
   "metadata": {},
   "outputs": [],
   "source": [
    "y_predicted = np.array([1,1,0,0,1])\n",
    "y_true = np.array([0.30,0.7,1,0,0.5])"
   ]
  },
  {
   "cell_type": "code",
   "execution_count": 20,
   "id": "7308f672-5e4e-4265-9600-d22051151b9b",
   "metadata": {},
   "outputs": [],
   "source": [
    "def mae(y_predicted, y_true):\n",
    "    total_error = 0\n",
    "    for yp, yt in zip(y_predicted, y_true):\n",
    "        total_error += abs(yp - yt)\n",
    "    print(\"Total error is:\",total_error)\n",
    "    mae = total_error/len(y_true)\n",
    "    print(\"Mean absolute error is:\",mae)\n",
    "    return mae"
   ]
  },
  {
   "cell_type": "markdown",
   "id": "0cf0f58f-5441-4a52-b1a7-a12a26808124",
   "metadata": {},
   "source": [
    " mae = total_error/len(y_true) we use y-true cuz  measuing error against truth"
   ]
  },
  {
   "cell_type": "code",
   "execution_count": 22,
   "id": "4124f5e9-7c5d-4ff2-bb60-c65830ef0812",
   "metadata": {},
   "outputs": [
    {
     "name": "stdout",
     "output_type": "stream",
     "text": [
      "Total error is: 2.5\n",
      "Mean absolute error is: 0.5\n"
     ]
    },
    {
     "data": {
      "text/plain": [
       "0.5"
      ]
     },
     "execution_count": 22,
     "metadata": {},
     "output_type": "execute_result"
    }
   ],
   "source": [
    "mae(y_predicted, y_true)\n"
   ]
  },
  {
   "cell_type": "markdown",
   "id": "25b18c27-82ee-4bd5-bf61-5074ccaeacd3",
   "metadata": {},
   "source": [
    "Implement same thing using numpy in much easier way"
   ]
  },
  {
   "cell_type": "code",
   "execution_count": 63,
   "id": "6a908981-2207-44bc-b556-36ae04e2b7e4",
   "metadata": {},
   "outputs": [
    {
     "data": {
      "text/plain": [
       "2.5"
      ]
     },
     "execution_count": 63,
     "metadata": {},
     "output_type": "execute_result"
    }
   ],
   "source": [
    "#whole function  this short line\n",
    "np.sum(np.abs(y_predicted-y_true))"
   ]
  },
  {
   "cell_type": "code",
   "execution_count": 65,
   "id": "e68aba94-a48f-49d2-9be0-364523bfdcdd",
   "metadata": {},
   "outputs": [
    {
     "data": {
      "text/plain": [
       "0.5"
      ]
     },
     "execution_count": 65,
     "metadata": {},
     "output_type": "execute_result"
    }
   ],
   "source": [
    "np.mean(np.abs(y_predicted-y_true))"
   ]
  },
  {
   "cell_type": "code",
   "execution_count": 47,
   "id": "0dba3fb1-9837-404d-9d62-f6fe0c38b402",
   "metadata": {},
   "outputs": [],
   "source": [
    "def mae(y_predicted,y_true):\n",
    "    return np.mean(np.abs(y_predicted-y_true))"
   ]
  },
  {
   "cell_type": "code",
   "execution_count": 51,
   "id": "0f33c7bc-8c56-40c5-96f4-c031e6a5779e",
   "metadata": {},
   "outputs": [
    {
     "data": {
      "text/plain": [
       "0.5"
      ]
     },
     "execution_count": 51,
     "metadata": {},
     "output_type": "execute_result"
    }
   ],
   "source": [
    "mae(y_predicted,y_true)"
   ]
  },
  {
   "cell_type": "markdown",
   "id": "b2500503-7b75-4094-a2c1-e62f58657380",
   "metadata": {},
   "source": [
    "lets implement LogLoss Or Binary Crossentropy\n",
    "\n",
    "\n"
   ]
  },
  {
   "cell_type": "markdown",
   "id": "497953fe-79ea-443f-b9c1-2d11ad1bee4f",
   "metadata": {},
   "source": [
    "#log[0]  & Log[1] are problem \n",
    "##log(0)→−∞ causes crash or NAN undefined gradient\n",
    "###log[1]=0 contibutes to no penalty=no gradient\n"
   ]
  },
  {
   "cell_type": "code",
   "execution_count": 67,
   "id": "3d3df812-cff8-4633-9c6e-565b9c2bb14d",
   "metadata": {},
   "outputs": [
    {
     "ename": "TypeError",
     "evalue": "'numpy.ufunc' object is not subscriptable",
     "output_type": "error",
     "traceback": [
      "\u001b[1;31m---------------------------------------------------------------------------\u001b[0m",
      "\u001b[1;31mTypeError\u001b[0m                                 Traceback (most recent call last)",
      "Cell \u001b[1;32mIn[67], line 1\u001b[0m\n\u001b[1;32m----> 1\u001b[0m np\u001b[38;5;241m.\u001b[39mlog[\u001b[38;5;241m0\u001b[39m]\n",
      "\u001b[1;31mTypeError\u001b[0m: 'numpy.ufunc' object is not subscriptable"
     ]
    }
   ],
   "source": [
    "np.log[0]"
   ]
  },
  {
   "cell_type": "code",
   "execution_count": 89,
   "id": "6c0abdef-445d-499b-8848-d9cb47da7f12",
   "metadata": {},
   "outputs": [
    {
     "data": {
      "text/plain": [
       "1e-15"
      ]
     },
     "execution_count": 89,
     "metadata": {},
     "output_type": "execute_result"
    }
   ],
   "source": [
    "#1e-15=0.0000000000001\n",
    "epsilon=1e-15\n"
   ]
  },
  {
   "cell_type": "code",
   "execution_count": 75,
   "id": "f8b002e7-0031-4640-8673-076e20611c6d",
   "metadata": {},
   "outputs": [
    {
     "data": {
      "text/plain": [
       "array([-34.53877639])"
      ]
     },
     "execution_count": 75,
     "metadata": {},
     "output_type": "execute_result"
    }
   ],
   "source": [
    "np.log([1e-15])"
   ]
  },
  {
   "cell_type": "code",
   "execution_count": 83,
   "id": "147c43bd-c1aa-4f35-b795-30650a7f9ec3",
   "metadata": {},
   "outputs": [
    {
     "data": {
      "text/plain": [
       "[1, 1, 1e-15, 1e-15, 1]"
      ]
     },
     "execution_count": 83,
     "metadata": {},
     "output_type": "execute_result"
    }
   ],
   "source": [
    "#using list comphresion=>loop into single expression\n",
    "#convert 0s to 0.0000000000001\n",
    "y_predicted_new=[max(i,epsilon) for i in y_predicted]\n",
    "y_predicted_new"
   ]
  },
  {
   "cell_type": "code",
   "execution_count": 95,
   "id": "20319b6b-59d4-4bb4-860f-5dbba047de6d",
   "metadata": {},
   "outputs": [
    {
     "data": {
      "text/plain": [
       "[0.999999999999999, 0.999999999999999, 1e-15, 1e-15, 0.999999999999999]"
      ]
     },
     "execution_count": 95,
     "metadata": {},
     "output_type": "execute_result"
    }
   ],
   "source": [
    "#now convet 1s close to 0.99999999\n",
    "y_predicted_new=[min(i,1-epsilon) for i in  y_predicted_new]\n",
    "y_predicted_new\n"
   ]
  },
  {
   "cell_type": "code",
   "execution_count": 97,
   "id": "3f3169d6-62ed-4434-90b3-4d8d07f415fa",
   "metadata": {},
   "outputs": [
    {
     "data": {
      "text/plain": [
       "array([1.e+00, 1.e+00, 1.e-15, 1.e-15, 1.e+00])"
      ]
     },
     "execution_count": 97,
     "metadata": {},
     "output_type": "execute_result"
    }
   ],
   "source": [
    "#convert Python list to a NumPy array.\n",
    "y_predicted_new=np.array(y_predicted_new)\n",
    "y_predicted_new"
   ]
  },
  {
   "cell_type": "code",
   "execution_count": 99,
   "id": "61f8289b-1129-47ef-800c-4df40d2759ac",
   "metadata": {},
   "outputs": [
    {
     "data": {
      "text/plain": [
       "array([-9.99200722e-16, -9.99200722e-16, -3.45387764e+01, -3.45387764e+01,\n",
       "       -9.99200722e-16])"
      ]
     },
     "execution_count": 99,
     "metadata": {},
     "output_type": "execute_result"
    }
   ],
   "source": [
    "np.log(y_predicted_new)"
   ]
  },
  {
   "cell_type": "code",
   "execution_count": 107,
   "id": "65a41a0f-08d1-408f-a4a9-f7cbfedc5125",
   "metadata": {},
   "outputs": [
    {
     "data": {
      "text/plain": [
       "17.2696280766844"
      ]
     },
     "execution_count": 107,
     "metadata": {},
     "output_type": "execute_result"
    }
   ],
   "source": [
    "-np.mean(y_true*np.log(y_predicted_new)+(1-y_true)*np.log(1-y_predicted_new))"
   ]
  },
  {
   "cell_type": "code",
   "execution_count": 214,
   "id": "03c1432c-f2c1-4497-a8de-589d6641674f",
   "metadata": {},
   "outputs": [],
   "source": [
    "#using function\n",
    "import math\n",
    "epsilon=1e-15\n",
    "def logloss(y_predicted,y_true):\n",
    "    total_error=0\n",
    "    for yp,yt in zip(y_predicted,y_true):\n",
    "     # Clip prediction to avoid log(0)\n",
    "        yp=max(epsilon,min(yp,1-epsilon))\n",
    "        total_error+=yt*math.log(yp)+(1-yt)*math.log(1-yp)\n",
    "    logloss=-total_error/len(y_true)\n",
    "    return logloss"
   ]
  },
  {
   "cell_type": "code",
   "execution_count": 216,
   "id": "60e25c1c-0968-42a6-b636-e95f56837133",
   "metadata": {},
   "outputs": [
    {
     "data": {
      "text/plain": [
       "17.2696280766844"
      ]
     },
     "execution_count": 216,
     "metadata": {},
     "output_type": "execute_result"
    }
   ],
   "source": [
    "logloss(y_predicted,y_true)"
   ]
  },
  {
   "cell_type": "markdown",
   "id": "4e6b80e9-7c4e-43b6-bf14-3bb5e8f702fe",
   "metadata": {},
   "source": [
    "Implement mean squared error (or MSE) in two ways,\n",
    "1.Without using numpy (i.e. using plain python)\n",
    "\n",
    "2.With the use of numpy"
   ]
  },
  {
   "cell_type": "code",
   "execution_count": 149,
   "id": "1c8f761d-7f51-4bc5-939b-9bace1e25cdf",
   "metadata": {},
   "outputs": [],
   "source": [
    "def mse(y_predicted, y_true):\n",
    "    total_error=0\n",
    "    for yp,yt in zip (y_predicted,y_true):\n",
    "        total_error+=(yp-yt)**2\n",
    "    print(\"Total error is:\",total_error)\n",
    "    mse=total_error/len(y_true)\n",
    "    print(\"Mean Square Error is:\",mse)\n",
    "    return mse\n"
   ]
  },
  {
   "cell_type": "code",
   "execution_count": 153,
   "id": "e0157671-904e-464e-b4b5-8d19de98b443",
   "metadata": {},
   "outputs": [
    {
     "name": "stdout",
     "output_type": "stream",
     "text": [
      "Total error is: 1.83\n",
      "Mean Square Error is: 0.366\n"
     ]
    },
    {
     "data": {
      "text/plain": [
       "0.366"
      ]
     },
     "execution_count": 153,
     "metadata": {},
     "output_type": "execute_result"
    }
   ],
   "source": [
    "mse(y_predicted,y_true)"
   ]
  },
  {
   "cell_type": "markdown",
   "id": "882db657-7a0b-4f4a-b3b1-7aa070fcd27f",
   "metadata": {},
   "source": [
    "using Numpy\n"
   ]
  },
  {
   "cell_type": "code",
   "execution_count": 160,
   "id": "6c45836d-99c4-4907-b64e-78391b04ad22",
   "metadata": {},
   "outputs": [
    {
     "data": {
      "text/plain": [
       "0.366"
      ]
     },
     "execution_count": 160,
     "metadata": {},
     "output_type": "execute_result"
    }
   ],
   "source": [
    "np.mean(np.square(y_predicted-y_true))"
   ]
  },
  {
   "cell_type": "code",
   "execution_count": 218,
   "id": "1b0105a7-f90a-4d1e-aae5-62862c88a424",
   "metadata": {},
   "outputs": [
    {
     "name": "stdout",
     "output_type": "stream",
     "text": [
      "Weight (m): 2.0990017348068473\n",
      "Bias (c): 0.627668538356443\n"
     ]
    }
   ],
   "source": [
    "from sklearn.linear_model import SGDRegressor\n",
    "import numpy as np\n",
    "\n",
    "# Input data (x) and target output (y)\n",
    "x = np.array([[1], [2], [3], [4], [5]])\n",
    "y = np.array([3, 5, 7, 9, 11])  # This follows y = 2x + 1\n",
    "\n",
    "# Create a linear model (weights are initialized internally)\n",
    "model = SGDRegressor(max_iter=1000, learning_rate='constant', eta0=0.01)\n",
    "\n",
    "# Train the model\n",
    "model.fit(x, y)\n",
    "\n",
    "# Print learned weight and bias\n",
    "print(\"Weight (m):\", model.coef_[0])\n",
    "print(\"Bias (c):\", model.intercept_[0])\n"
   ]
  },
  {
   "cell_type": "markdown",
   "id": "08e3f582-7914-44f2-ad1c-5335aaa3eb4e",
   "metadata": {},
   "source": [
    "Imagine a 3D surface where:\n",
    "\n",
    "X-axis = weight\n",
    "\n",
    "Y-axis = bias\n",
    "\n",
    "Z-axis = MSE\n",
    "\n",
    "Gradient descent is like rolling a ball downhill on this surface. The ball stops when both partial derivatives are zero—i.e., the slope is flat in all directions."
   ]
  },
  {
   "cell_type": "code",
   "execution_count": 292,
   "id": "0f75b5b5-e8d0-4b30-8b8c-7d28ff6861e2",
   "metadata": {},
   "outputs": [
    {
     "name": "stdout",
     "output_type": "stream",
     "text": [
      "Optimal weight: 2.0049, Optimal bias: 0.9857\n"
     ]
    }
   ],
   "source": [
    "import numpy as np\n",
    "\n",
    "# Sample data\n",
    "X = np.array([1, 2, 3, 4])\n",
    "y = np.array([3, 5, 7, 9])  # y = 2x + 1\n",
    "\n",
    "# Initialize parameters\n",
    "w, b = 0.0, 0.0\n",
    "lr = 0.01\n",
    "\n",
    "# Gradient descent loop\n",
    "for _ in range(1000):\n",
    "    y_pred = w * X + b\n",
    "    error = y - y_pred\n",
    "    dw = -2 * np.sum(X * error) / len(X)#w.r.t to weights \n",
    "    db = -2 * np.sum(error) / len(X)#w.r.t bias\n",
    "    w -= lr * dw\n",
    "    b -= lr * db\n",
    "\n",
    "print(f\"Optimal weight: {w:.4f}, Optimal bias: {b:.4f}\")\n",
    "#the global minimum for this dataset.\n"
   ]
  },
  {
   "cell_type": "code",
   "execution_count": 294,
   "id": "3e77f0fd-9486-4275-abf4-153ab72d4b73",
   "metadata": {},
   "outputs": [
    {
     "data": {
      "image/png": "[encoded data removed]",
      "text/plain": [
       "<Figure size 800x500 with 1 Axes>"
      ]
     },
     "metadata": {},
     "output_type": "display_data"
    }
   ],
   "source": [
    "import numpy as np\n",
    "import matplotlib.pyplot as plt\n",
    "\n",
    "# Sample data\n",
    "X = np.array([1, 2, 3, 4])\n",
    "y = np.array([3, 5, 7, 9])  # True relationship: y = 2x + 1\n",
    "\n",
    "# Adjustable parameters\n",
    "w = 2.049 # Try values like 1.5, 2.0, 3.0\n",
    "b = 0.9 # Try values like 0.0, 1.0, -2.0\n",
    "\n",
    "# Predicted line\n",
    "y_pred = w * X + b\n",
    "\n",
    "# Plot\n",
    "plt.figure(figsize=(8, 5))\n",
    "plt.scatter(X, y, color='red', label='True data points')\n",
    "plt.plot(X, y_pred, color='blue', label=f'Predicted line: y = {w}x + {b}')\n",
    "plt.title('Effect of Weight and Bias on Linear Fit')\n",
    "plt.xlabel('X')\n",
    "plt.ylabel('y')\n",
    "plt.legend()\n",
    "plt.grid(True)\n",
    "plt.show()\n"
   ]
  },
  {
   "cell_type": "code",
   "execution_count": 260,
   "id": "62f2e7fe-98bc-45a6-a973-1e14587b1a00",
   "metadata": {},
   "outputs": [
    {
     "name": "stdout",
     "output_type": "stream",
     "text": [
      "Predicted values: [2.949 4.998 7.047 9.096]\n",
      "Error: [ 0.051  0.002 -0.047 -0.096]\n",
      "Gradient w.r.t. weight (dw): 0.2350\n",
      "Gradient w.r.t. bias (db): 0.0450\n"
     ]
    }
   ],
   "source": [
    "import numpy as np\n",
    "\n",
    "# Sample data: y = 2x + 1\n",
    "X = np.array([1, 2, 3, 4])#y_predicted\n",
    "y = np.array([3, 5, 7, 9])#is the ideal output for comparing with error y_true\n",
    "\n",
    "# Adjustable parameters (you can tweak these)\n",
    "w = 2.049 #if g+ve=w+ + loss+ else g-ve=++w --loss\n",
    "b = 0.9  #same as w  \n",
    "\n",
    "# Prediction\n",
    "y_pred = w * X + b\n",
    "\n",
    "# Error\n",
    "error = y - y_pred\n",
    "\n",
    "# Gradient w.r.t. weight\n",
    "dw = -2 * np.sum(X * error) / len(X)\n",
    "\n",
    "# Gradient w.r.t. bias\n",
    "db = -2 * np.sum(error) / len(X)\n",
    "\n",
    "# Print results\n",
    "print(f\"Predicted values: {y_pred}\")\n",
    "print(f\"Error: {error}\")\n",
    "print(f\"Gradient w.r.t. weight (dw): {dw:.4f}\")\n",
    "print(f\"Gradient w.r.t. bias (db): {db:.4f}\")\n"
   ]
  }
 ],
 "metadata": {
  "kernelspec": {
   "display_name": "Python [conda env:base] *",
   "language": "python",
   "name": "conda-base-py"
  },
  "language_info": {
   "codemirror_mode": {
    "name": "ipython",
    "version": 3
   },
   "file_extension": ".py",
   "mimetype": "text/x-python",
   "name": "python",
   "nbconvert_exporter": "python",
   "pygments_lexer": "ipython3",
   "version": "3.12.7"
  }
 },
 "nbformat": 4,
 "nbformat_minor": 5
}
